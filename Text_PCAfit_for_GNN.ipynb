{
 "cells": [
  {
   "cell_type": "code",
   "execution_count": 5,
   "metadata": {
    "canvas": {
     "comments": [],
     "componentType": "CodeCell",
     "copiedOriginId": null,
     "headerColor": "none",
     "id": "3c0dbe4e-c828-4773-82f8-f15cfaf6d930",
     "isComponent": false,
     "name": "",
     "parents": []
    },
    "executionInfo": {
     "elapsed": 559,
     "status": "ok",
     "timestamp": 1646369224452,
     "user": {
      "displayName": "구선모",
      "photoUrl": "https://lh3.googleusercontent.com/a-/AOh14Gj4XqiKfZljLd1FvDThTSlEv2JXgBd5cXYFG--d=s64",
      "userId": "09818723858892330013"
     },
     "user_tz": -540
    },
    "id": "e_DvQeNQoIaB",
    "tags": []
   },
   "outputs": [],
   "source": [
    "import numpy as np\n",
    "import joblib\n",
    "from sklearn.decomposition import PCA"
   ]
  },
  {
   "cell_type": "code",
   "execution_count": null,
   "metadata": {
    "canvas": {
     "comments": [],
     "componentType": "CodeCell",
     "copiedOriginId": null,
     "headerColor": "none",
     "id": "56659b47-9214-404e-bb33-0201f52da398",
     "isComponent": false,
     "name": "",
     "parents": []
    },
    "id": "Z2teJevqoPdr"
   },
   "outputs": [],
   "source": [
    "data_emb= np.load(\"/content/drive/MyDrive/BlogAuthorClass/postEmb_384dim_Mono(1).npy\", allow_pickle=True)"
   ]
  },
  {
   "cell_type": "code",
   "execution_count": null,
   "metadata": {
    "canvas": {
     "comments": [],
     "componentType": "CodeCell",
     "copiedOriginId": null,
     "headerColor": "none",
     "id": "882ee967-2f9a-46fa-8bd1-6f4a9faf496d",
     "isComponent": false,
     "name": "",
     "parents": []
    },
    "id": "HzAUaJWbtB74"
   },
   "outputs": [],
   "source": [
    "sampling=734000\n",
    "\n",
    "lenvec = np.vectorize(len)\n",
    "data_emb = data_emb[lenvec(data_emb) > 0]  # excepting missing values\n",
    "data_emb = np.vstack(tuple(data_emb[i] for i in range(len(data_emb))))\n",
    "data4pca = data_emb[np.random.randint(len(data_emb), size=sampling),:]"
   ]
  },
  {
   "cell_type": "code",
   "execution_count": null,
   "metadata": {
    "canvas": {
     "comments": [],
     "componentType": "CodeCell",
     "copiedOriginId": null,
     "headerColor": "none",
     "id": "93f7a0b6-3b79-45d5-b6f1-0cb610ce009f",
     "isComponent": false,
     "name": "",
     "parents": []
    },
    "colab": {
     "base_uri": "https://localhost:8080/"
    },
    "executionInfo": {
     "elapsed": 8997,
     "status": "ok",
     "timestamp": 1645504033724,
     "user": {
      "displayName": "구선모",
      "photoUrl": "https://lh3.googleusercontent.com/a-/AOh14Gj4XqiKfZljLd1FvDThTSlEv2JXgBd5cXYFG--d=s64",
      "userId": "09818723858892330013"
     },
     "user_tz": -540
    },
    "id": "UZyreIfKsWV7",
    "outputId": "69ce6567-3af7-4035-be06-87933c01ae42"
   },
   "outputs": [
    {
     "data": {
      "text/plain": [
       "PCA(n_components=6)"
      ]
     },
     "execution_count": 15,
     "metadata": {},
     "output_type": "execute_result"
    }
   ],
   "source": [
    "pca = PCA(n_components=6)\n",
    "pca.fit(data4pca)"
   ]
  },
  {
   "cell_type": "code",
   "execution_count": null,
   "metadata": {
    "canvas": {
     "comments": [],
     "componentType": "CodeCell",
     "copiedOriginId": null,
     "headerColor": "none",
     "id": "e8f97444-98b5-4adb-a3ed-7bc503fcc5dc",
     "isComponent": false,
     "name": "",
     "parents": []
    },
    "colab": {
     "base_uri": "https://localhost:8080/"
    },
    "executionInfo": {
     "elapsed": 490,
     "status": "ok",
     "timestamp": 1645504037283,
     "user": {
      "displayName": "구선모",
      "photoUrl": "https://lh3.googleusercontent.com/a-/AOh14Gj4XqiKfZljLd1FvDThTSlEv2JXgBd5cXYFG--d=s64",
      "userId": "09818723858892330013"
     },
     "user_tz": -540
    },
    "id": "psRjVk_8u-yw",
    "outputId": "7a673e83-260e-4772-e352-2044dc3526d4"
   },
   "outputs": [
    {
     "data": {
      "text/plain": [
       "['\\x08PCA_Mono384.pkl']"
      ]
     },
     "execution_count": 16,
     "metadata": {},
     "output_type": "execute_result"
    }
   ],
   "source": [
    "joblib.dump(pca, 'PCA_Mono384.pkl')"
   ]
  }
 ],
 "metadata": {
  "accelerator": "GPU",
  "canvas": {
   "colorPalette": [
    "inherit",
    "inherit",
    "inherit",
    "inherit",
    "inherit",
    "inherit",
    "inherit",
    "inherit",
    "inherit",
    "inherit"
   ],
   "parameters": []
  },
  "colab": {
   "authorship_tag": "ABX9TyMDwkKi4b5IYtNFasLRYnWw",
   "collapsed_sections": [],
   "machine_shape": "hm",
   "mount_file_id": "1XvNGLwRwDUEDOgOqb9Qoet_KIk5WcfNh",
   "name": "Text_PCAfit.ipynb",
   "provenance": []
  },
  "kernelspec": {
   "display_name": "Python 3 (ipykernel)",
   "language": "python",
   "name": "python3"
  },
  "language_info": {
   "codemirror_mode": {
    "name": "ipython",
    "version": 3
   },
   "file_extension": ".py",
   "mimetype": "text/x-python",
   "name": "python",
   "nbconvert_exporter": "python",
   "pygments_lexer": "ipython3",
   "version": "3.9.1"
  }
 },
 "nbformat": 4,
 "nbformat_minor": 4
}
